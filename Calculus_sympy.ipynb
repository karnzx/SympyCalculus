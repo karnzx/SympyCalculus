{
  "nbformat": 4,
  "nbformat_minor": 0,
  "metadata": {
    "colab": {
      "name": "Calculus_sympy.ipynb",
      "provenance": [],
      "collapsed_sections": [],
      "include_colab_link": true
    },
    "kernelspec": {
      "name": "python3",
      "display_name": "Python 3"
    }
  },
  "cells": [
    {
      "cell_type": "markdown",
      "metadata": {
        "id": "view-in-github",
        "colab_type": "text"
      },
      "source": [
        "<a href=\"https://colab.research.google.com/github/karnzx/SympyCalculus/blob/master/Calculus_sympy.ipynb\" target=\"_parent\"><img src=\"https://colab.research.google.com/assets/colab-badge.svg\" alt=\"Open In Colab\"/></a>"
      ]
    },
    {
      "cell_type": "markdown",
      "metadata": {
        "id": "RtIM9E1j8wj9",
        "colab_type": "text"
      },
      "source": [
        "**SETUP**"
      ]
    },
    {
      "cell_type": "code",
      "metadata": {
        "id": "W3OCuBZ6cYMX",
        "colab_type": "code",
        "colab": {}
      },
      "source": [
        "from sympy import *\n",
        "init_printing(use_latex='mathplotlib')\n",
        "x, y, z = symbols('x y z')"
      ],
      "execution_count": 0,
      "outputs": []
    },
    {
      "cell_type": "markdown",
      "metadata": {
        "id": "ZdKAnnro80T6",
        "colab_type": "text"
      },
      "source": [
        "**derivative**"
      ]
    },
    {
      "cell_type": "code",
      "metadata": {
        "id": "MBV4o7lMme5u",
        "colab_type": "code",
        "colab": {}
      },
      "source": [
        "f = cos(x)\n",
        "diff(f, x) # ดิฟฟังก์ชั่น f หนึ่งครั้ง"
      ],
      "execution_count": 0,
      "outputs": []
    },
    {
      "cell_type": "code",
      "metadata": {
        "id": "2-D6rw1Onox7",
        "colab_type": "code",
        "colab": {}
      },
      "source": [
        "diff(cos(x), x, x, x) # ทำการดิฟ cos(x) 3 ครั้ง"
      ],
      "execution_count": 0,
      "outputs": []
    },
    {
      "cell_type": "code",
      "metadata": {
        "id": "tB3M5wqLoYDb",
        "colab_type": "code",
        "colab": {}
      },
      "source": [
        "diff(cos(x), x, 3) # เหมือนกับข้างบน"
      ],
      "execution_count": 0,
      "outputs": []
    },
    {
      "cell_type": "code",
      "metadata": {
        "id": "b846f1lnsWHB",
        "colab_type": "code",
        "colab": {}
      },
      "source": [
        "exp(x*y*z)"
      ],
      "execution_count": 0,
      "outputs": []
    },
    {
      "cell_type": "code",
      "metadata": {
        "id": "cYXYg6swpQ3o",
        "colab_type": "code",
        "colab": {}
      },
      "source": [
        "expr = exp(x*y*z)\n",
        "diff(expr, x, y, 2, z, 4)"
      ],
      "execution_count": 0,
      "outputs": []
    },
    {
      "cell_type": "code",
      "metadata": {
        "id": "2Q8SGACes3m9",
        "colab_type": "code",
        "colab": {}
      },
      "source": [
        "Derivative(expr, x, y, 2, z, 4)"
      ],
      "execution_count": 0,
      "outputs": []
    },
    {
      "cell_type": "code",
      "metadata": {
        "id": "-3rkwgxjtVEH",
        "colab_type": "code",
        "colab": {}
      },
      "source": [
        "Derivative(expr, x, y, 2, z, 4).doit()"
      ],
      "execution_count": 0,
      "outputs": []
    },
    {
      "cell_type": "markdown",
      "metadata": {
        "id": "z24Lymkx87m4",
        "colab_type": "text"
      },
      "source": [
        "**Integral**"
      ]
    },
    {
      "cell_type": "code",
      "metadata": {
        "id": "WVaCur1ewQTh",
        "colab_type": "code",
        "colab": {}
      },
      "source": [
        "integrate(cos(x), x) # ได้ sin(x)"
      ],
      "execution_count": 0,
      "outputs": []
    },
    {
      "cell_type": "code",
      "metadata": {
        "id": "9UHHI0J3yJZ9",
        "colab_type": "code",
        "colab": {}
      },
      "source": [
        "Integral(exp(-x), (x, 0, oo))"
      ],
      "execution_count": 0,
      "outputs": []
    },
    {
      "cell_type": "code",
      "metadata": {
        "id": "wg_-77zpyem6",
        "colab_type": "code",
        "colab": {}
      },
      "source": [
        "Integral(exp(-x), (x, 0, oo)).doit()"
      ],
      "execution_count": 0,
      "outputs": []
    },
    {
      "cell_type": "code",
      "metadata": {
        "id": "BpSh3nQIzrK4",
        "colab_type": "code",
        "colab": {}
      },
      "source": [
        "Integral(exp(-x**2 - y**2), (x, -oo, oo), (y, -oo, oo))"
      ],
      "execution_count": 0,
      "outputs": []
    },
    {
      "cell_type": "code",
      "metadata": {
        "id": "dxgrsXQuzshG",
        "colab_type": "code",
        "outputId": "ca122d8b-14da-4253-9047-6c0d4e2392f5",
        "colab": {
          "base_uri": "https://localhost:8080/",
          "height": 34
        }
      },
      "source": [
        "Integral(exp(-x**2 - y**2), (x, -oo, oo), (y, -oo, oo)).doit()"
      ],
      "execution_count": 0,
      "outputs": [
        {
          "output_type": "execute_result",
          "data": {
            "text/plain": [
              "π"
            ]
          },
          "metadata": {
            "tags": []
          },
          "execution_count": 147
        }
      ]
    },
    {
      "cell_type": "markdown",
      "metadata": {
        "id": "p0NZCJ779AN9",
        "colab_type": "text"
      },
      "source": [
        "**Limit**"
      ]
    },
    {
      "cell_type": "code",
      "metadata": {
        "id": "DR5wwuRD3HOE",
        "colab_type": "code",
        "colab": {}
      },
      "source": [
        "Limit(1/x, x, 0, '+') # แสดงค่า"
      ],
      "execution_count": 0,
      "outputs": []
    },
    {
      "cell_type": "code",
      "metadata": {
        "id": "FpS-ua8H3yMl",
        "colab_type": "code",
        "colab": {}
      },
      "source": [
        "limit(1/x, x, 0, '+') # คำนวณ"
      ],
      "execution_count": 0,
      "outputs": []
    },
    {
      "cell_type": "code",
      "metadata": {
        "id": "7r7Wuh8O4KCr",
        "colab_type": "code",
        "colab": {}
      },
      "source": [
        "Limit(1/x, x, 0, '-') # แสดงค่า"
      ],
      "execution_count": 0,
      "outputs": []
    },
    {
      "cell_type": "code",
      "metadata": {
        "id": "LIC81fGG4KJf",
        "colab_type": "code",
        "colab": {}
      },
      "source": [
        "\n",
        "limit(1/x, x, 0, '-') # คำนวณ"
      ],
      "execution_count": 0,
      "outputs": []
    }
  ]
}